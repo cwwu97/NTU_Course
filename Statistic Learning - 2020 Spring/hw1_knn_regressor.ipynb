{
 "cells": [
  {
   "cell_type": "markdown",
   "metadata": {},
   "source": [
    "# 第一題 myknn_regressor"
   ]
  },
  {
   "cell_type": "markdown",
   "metadata": {},
   "source": [
    "## Q1. 1 Create your myknn_regressor."
   ]
  },
  {
   "cell_type": "markdown",
   "metadata": {},
   "source": [
    "說明：我在myknn_regressor中設定兩個augments分別為K值以及prediction的計算方式（我預設為使用equal_weight），fit function用來寫入Training set，而predict function用來預測結果。 \\\n",
    "\n",
    "在predict function裡，我先做Euclidean Distance的計算，再使用numpy.argsort做距離的排序，最後使用距離的排序把Y_train叫出來並作均值計算成為最後的預測結果Y_Pred"
   ]
  },
  {
   "cell_type": "code",
   "execution_count": 86,
   "metadata": {},
   "outputs": [],
   "source": [
    "# Main Frame\n",
    "class myknn_regressor:\n",
    "    def __init__(self, k_neighbors, f):\n",
    "        self.k_neighbors = k_neighbors\n",
    "        \n",
    "        if self.k_neighbors < 10:\n",
    "            self.f = \"equal_weight\"      \n",
    "        else:\n",
    "            self.f = f\n",
    "        \n",
    "    def fit(self, X_Train, Y_Train):   \n",
    "        self.X_Train = X_Train\n",
    "        self.Y_Train = Y_Train\n",
    "    \n",
    "    def predict(self, X_Test):\n",
    "        import numpy as np\n",
    "        self.X_Test = X_Test\n",
    "        Year_Pred = []\n",
    "        \n",
    "        for i in self.X_Test:  \n",
    "            Rank = np.argsort(np.sqrt(((i - self.X_Train) ** 2).sum(axis = 1)))   # 單一測試點對所有訓練點的距離的排序\n",
    "            Year_Pred.append(y_train[Rank][ : self.k_neighbors]) #使用Rank作為呼叫Y的位置，把Y呼叫出來並只取前K筆\n",
    "            \n",
    "        Y_Pred = []\n",
    "        \n",
    "        if self.f == \"equal_weight\":\n",
    "            for i in Year_Pred:\n",
    "                Y_Pred.append(np.mean(i))\n",
    "                # Y_Pred.append(round(np.mean(i)))\n",
    "            return(np.array(Y_Pred))\n",
    "        \n",
    "        elif self.f == \"remove_outliers\":\n",
    "            Remove_Outlier_Y = []\n",
    "            for i in range(len(Year_Pred)):\n",
    "                IQR = (np.quantile(Year_Pred[i], 0.75) - np.quantile(Year_Pred[i], 0.25))\n",
    "                LB = (np.quantile(Year_Pred[i], 0.25) - 1.5 * IQR)\n",
    "                UB = (np.quantile(Year_Pred[i], 0.75) + 1.5 * IQR)\n",
    "                Remove_Outlier_Y.append(np.array(Year_Pred[i])[(Year_Pred[i] <= UB) & (Year_Pred[i] >= LB)])\n",
    "\n",
    "            for i in Remove_Outlier_Y:\n",
    "                Y_Pred.append(np.mean(np.mean(i)))\n",
    "                # Y_Pred.append(round(np.mean(np.mean(i))))\n",
    "            return(np.array(Y_Pred))"
   ]
  },
  {
   "cell_type": "markdown",
   "metadata": {},
   "source": [
    "說明：標準化函式，標準化根據Feature逐欄進行，而Standardize的標準是根據教授在討論區提供的方式，對Training set使用本身的均數與標準差做標準化，而對Testing set使用Training set的均數及標準差做標準化。"
   ]
  },
  {
   "cell_type": "code",
   "execution_count": 87,
   "metadata": {},
   "outputs": [],
   "source": [
    "# Standardization\n",
    "def Standardize(X_train, X_test):\n",
    "    X_train = np.array(X_train)\n",
    "    X_test = np.array(X_test)\n",
    "    S_X_train = []\n",
    "    S_X_test = []\n",
    "    \n",
    "    for i in X_train:\n",
    "        mean = X_train.mean(axis = 0)\n",
    "        std = X_train.std(axis = 0)\n",
    "        S_X_train.append((i - mean) / std)\n",
    "    \n",
    "    for i in X_test:\n",
    "        S_X_test.append((i - mean) / std)\n",
    "        \n",
    "    return(S_X_train, S_X_test)"
   ]
  },
  {
   "cell_type": "markdown",
   "metadata": {},
   "source": [
    "## Q1. 2 Predictions with  f = \"equal_weight\"\n",
    "* Load data from msd_data1.pickle.\n",
    "* You should standardized all feature values so that all features have a zero mean and a unit variance before training a KNN model. \n",
    "* Make predictions using  k=20  and f = \"equal_weight\". \n",
    "* List the RMSE and the first 20 predictions in the testing data."
   ]
  },
  {
   "cell_type": "markdown",
   "metadata": {},
   "source": [
    "說明：使用pandas讀入資料集"
   ]
  },
  {
   "cell_type": "code",
   "execution_count": 70,
   "metadata": {},
   "outputs": [],
   "source": [
    "import pandas as pd\n",
    "import numpy as np"
   ]
  },
  {
   "cell_type": "code",
   "execution_count": 71,
   "metadata": {},
   "outputs": [],
   "source": [
    "# Import Data\n",
    "MSD = pd.read_pickle(\"msd_data1.pickle\")\n",
    "x_train = MSD[\"X_train\"]\n",
    "x_test = MSD[\"X_test\"]\n",
    "y_train = MSD[\"Y_train\"]\n",
    "y_test = MSD[\"Y_test\"]"
   ]
  },
  {
   "cell_type": "markdown",
   "metadata": {},
   "source": [
    "說明：對X features做標準化"
   ]
  },
  {
   "cell_type": "code",
   "execution_count": 45,
   "metadata": {},
   "outputs": [],
   "source": [
    "scaled_x_train, scaled_x_test = Standardize(x_train, x_test)"
   ]
  },
  {
   "cell_type": "markdown",
   "metadata": {},
   "source": [
    "說明：Fit training sets，選擇k = 20、使用equal weight進行預測計算"
   ]
  },
  {
   "cell_type": "code",
   "execution_count": 72,
   "metadata": {},
   "outputs": [],
   "source": [
    "# Algorithm completed and run\n",
    "knn = myknn_regressor(k_neighbors = 20, f = \"equal_weight\")\n",
    "knn.fit(scaled_x_train, y_train)\n",
    "y_pred = knn.predict(scaled_x_test)"
   ]
  },
  {
   "cell_type": "markdown",
   "metadata": {},
   "source": [
    "Evaluation"
   ]
  },
  {
   "cell_type": "code",
   "execution_count": 73,
   "metadata": {},
   "outputs": [
    {
     "data": {
      "text/plain": [
       "10.25126451549596"
      ]
     },
     "execution_count": 73,
     "metadata": {},
     "output_type": "execute_result"
    }
   ],
   "source": [
    "# RMSE\n",
    "np.sqrt(np.mean((y_pred - y_test) ** 2))"
   ]
  },
  {
   "cell_type": "code",
   "execution_count": 76,
   "metadata": {},
   "outputs": [
    {
     "data": {
      "text/plain": [
       "array([1993., 1994., 2001., 1992., 1993., 1998., 1988., 1992., 2002.,\n",
       "       2003., 2000., 1999., 1996., 1997., 1995., 1997., 1992., 2000.,\n",
       "       2003., 1996.])"
      ]
     },
     "execution_count": 76,
     "metadata": {},
     "output_type": "execute_result"
    }
   ],
   "source": [
    "# First 20 Predictions\n",
    "y_pred.round()[0:20]"
   ]
  },
  {
   "cell_type": "markdown",
   "metadata": {},
   "source": [
    "說明: 使用myknn_regressor進行預測，在predict階段約需耗時10秒，使用predict出的結果與我們的y_test值進行模型的準確性評估，算出來的RMSE約為10.294（Accuracy score約為0.0413，與使用Sikit-Learn KNeighborsRegressor進行預測的準確度相同，說明模型正確）"
   ]
  },
  {
   "cell_type": "markdown",
   "metadata": {},
   "source": [
    "## Q1.3 Prediction with f = \"remove outlier\"\n",
    "* Load data from msd_data1.pickle. \n",
    "* Standardized all feature values so that all features have a zero mean and unit variance. \n",
    "* Make predictions using k = 20 and f = \"remove_outlier\"\n",
    "* List the RMSE and the first 20 predictions in the testing data."
   ]
  },
  {
   "cell_type": "code",
   "execution_count": 55,
   "metadata": {},
   "outputs": [],
   "source": [
    "import pandas as pd\n",
    "import numpy as np"
   ]
  },
  {
   "cell_type": "code",
   "execution_count": 56,
   "metadata": {},
   "outputs": [],
   "source": [
    "# Import Data\n",
    "MSD = pd.read_pickle(\"msd_data1.pickle\")\n",
    "x_train = MSD[\"X_train\"]\n",
    "x_test = MSD[\"X_test\"]\n",
    "y_train = MSD[\"Y_train\"]\n",
    "y_test = MSD[\"Y_test\"]"
   ]
  },
  {
   "cell_type": "code",
   "execution_count": 57,
   "metadata": {},
   "outputs": [],
   "source": [
    "scaled_x_train, scaled_x_test = Standardize(x_train, x_test)"
   ]
  },
  {
   "cell_type": "markdown",
   "metadata": {},
   "source": [
    "說明：與上題同樣的步驟，只是在這題把function改成\"remove outliers\"，也就是在進行k個prediction平均之前，先將這些prediciton中的outliers剔除，以增強local average的效果"
   ]
  },
  {
   "cell_type": "code",
   "execution_count": 79,
   "metadata": {},
   "outputs": [],
   "source": [
    "knn = myknn_regressor(k_neighbors = 20, f = \"remove_outliers\")\n",
    "knn.fit(scaled_x_train, y_train)\n",
    "y_pred = knn.predict(scaled_x_test)"
   ]
  },
  {
   "cell_type": "code",
   "execution_count": 81,
   "metadata": {},
   "outputs": [
    {
     "data": {
      "text/plain": [
       "array([1993., 1994., 2001., 1993., 1993., 2000., 1988., 1992., 2002.,\n",
       "       2004., 2000., 2001., 1996., 1997., 1999., 1997., 1992., 2004.,\n",
       "       2003., 1996.])"
      ]
     },
     "execution_count": 81,
     "metadata": {},
     "output_type": "execute_result"
    }
   ],
   "source": [
    "# First 20 Predictions\n",
    "y_pred.round()[0:20]"
   ]
  },
  {
   "cell_type": "code",
   "execution_count": 82,
   "metadata": {},
   "outputs": [
    {
     "data": {
      "text/plain": [
       "10.212572466080376"
      ]
     },
     "execution_count": 82,
     "metadata": {},
     "output_type": "execute_result"
    }
   ],
   "source": [
    "# RMSE\n",
    "np.sqrt(np.mean((y_pred - y_test) ** 2))"
   ]
  },
  {
   "cell_type": "markdown",
   "metadata": {},
   "source": [
    "說明: 運算耗時也約10秒，使用predict出的結果與我們的y_test值進行模型的準確性評估，算出來的RMSE約為10.214（Accuracy score約為0.0483），與沒有剔出outlier的模型相比，有準確度的提升。"
   ]
  },
  {
   "cell_type": "markdown",
   "metadata": {},
   "source": [
    "# 第二題 Tuning the Hyper Parameter"
   ]
  },
  {
   "cell_type": "code",
   "execution_count": 88,
   "metadata": {},
   "outputs": [],
   "source": [
    "# Import Data\n",
    "MSD = pd.read_pickle(\"msd_data1.pickle\")\n",
    "x_train = MSD[\"X_train\"]\n",
    "x_test = MSD[\"X_test\"]\n",
    "y_train = MSD[\"Y_train\"]\n",
    "y_test = MSD[\"Y_test\"]\n",
    "\n",
    "scaled_x_train, scaled_x_test = Standardize(x_train, x_test)"
   ]
  },
  {
   "cell_type": "markdown",
   "metadata": {},
   "source": [
    "* Case1: Sikit-learn + Standardize features"
   ]
  },
  {
   "cell_type": "code",
   "execution_count": 89,
   "metadata": {
    "scrolled": true
   },
   "outputs": [],
   "source": [
    "#Case1: Sikit-learn + Standardize features\n",
    "k_list = [1,2,3,4,5,10,15,20,25,30,35,40,45,50,55,60,80,100,120,140,160,180,200]\n",
    "Case1_RMSE = []\n",
    "\n",
    "from sklearn.neighbors import KNeighborsRegressor\n",
    "for i in k_list:\n",
    "    knn = KNeighborsRegressor(n_neighbors = i)\n",
    "    knn.fit(scaled_x_train, y_train)\n",
    "    y_pred1 = knn.predict(scaled_x_test)\n",
    "    rmse = np.sqrt(np.mean((y_pred1 - y_test) ** 2))\n",
    "    Case1_RMSE.append(rmse)"
   ]
  },
  {
   "cell_type": "markdown",
   "metadata": {},
   "source": [
    "* Case2: Sikit-Learn + Original Data"
   ]
  },
  {
   "cell_type": "code",
   "execution_count": 90,
   "metadata": {},
   "outputs": [],
   "source": [
    "# Case2: Sikit-Learn + Original Data\n",
    "k_list = [1,2,3,4,5,10,15,20,25,30,35,40,45,50,55,60,80,100,120,140,160,180,200]\n",
    "Case2_RMSE = []\n",
    "\n",
    "from sklearn.neighbors import KNeighborsRegressor\n",
    "for i in k_list:\n",
    "    knn = KNeighborsRegressor(n_neighbors = i)\n",
    "    knn.fit(x_train, y_train)\n",
    "    y_pred2 = knn.predict(x_test)\n",
    "    rmse = np.sqrt(np.mean((y_pred2 - y_test) ** 2))\n",
    "    Case2_RMSE.append(rmse)"
   ]
  },
  {
   "cell_type": "markdown",
   "metadata": {},
   "source": [
    "* Case3: Standardize feature with remove_outlier"
   ]
  },
  {
   "cell_type": "code",
   "execution_count": 91,
   "metadata": {},
   "outputs": [],
   "source": [
    "# Case3: Standardize feature with remove_outlier\n",
    "k_list = [1,2,3,4,5,10,15,20,25,30,35,40,45,50,55,60,80,100,120,140,160,180,200]\n",
    "Case3_RMSE = []\n",
    "\n",
    "for i in k_list:\n",
    "    myknn = myknn_regressor(i, \"remove_outliers\")\n",
    "    myknn.fit(scaled_x_train, y_train)\n",
    "    y_pred3 = myknn.predict(scaled_x_test)\n",
    "    rmse = np.sqrt(np.mean((y_pred3 - y_test) ** 2))\n",
    "    Case3_RMSE.append(rmse) "
   ]
  },
  {
   "cell_type": "markdown",
   "metadata": {},
   "source": [
    "* Plotting"
   ]
  },
  {
   "cell_type": "code",
   "execution_count": 100,
   "metadata": {},
   "outputs": [
    {
     "data": {
      "image/png": "[encoded data removed]",
      "text/plain": [
       "<Figure size 720x720 with 1 Axes>"
      ]
     },
     "metadata": {
      "needs_background": "light"
     },
     "output_type": "display_data"
    }
   ],
   "source": [
    "import matplotlib.pyplot as plt\n",
    "plt.figure(figsize = (10, 10))\n",
    "plt.plot(k_list, Case1_RMSE, marker = \"o\")\n",
    "plt.plot(k_list, Case2_RMSE, marker = \"o\")\n",
    "plt.plot(k_list, Case3_RMSE, marker = \"o\")\n",
    "plt.xlabel(\"# of K Neighbors\")\n",
    "plt.ylabel(\"RMSE\")\n",
    "plt.legend([\"Case1\", \"Case2\", \"Case3\"])\n",
    "plt.show()"
   ]
  },
  {
   "cell_type": "markdown",
   "metadata": {},
   "source": [
    "從圖形可以很明顯地看出，經過標準化及剔除outlier後的knn模型有最低的RMSE，而使用未經標準化的訓練集的模型則有最高的RMSE，因此我們可以推論經過標準化及剔除outlier後的knn模型有最高的準確度。"
   ]
  },
  {
   "cell_type": "code",
   "execution_count": null,
   "metadata": {},
   "outputs": [],
   "source": []
  }
 ],
 "metadata": {
  "kernelspec": {
   "display_name": "Python 3",
   "language": "python",
   "name": "python3"
  },
  "language_info": {
   "codemirror_mode": {
    "name": "ipython",
    "version": 3
   },
   "file_extension": ".py",
   "mimetype": "text/x-python",
   "name": "python",
   "nbconvert_exporter": "python",
   "pygments_lexer": "ipython3",
   "version": "3.7.3"
  }
 },
 "nbformat": 4,
 "nbformat_minor": 2
}
